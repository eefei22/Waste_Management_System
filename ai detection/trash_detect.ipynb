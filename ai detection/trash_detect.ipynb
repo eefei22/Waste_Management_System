{
 "cells": [
  {
   "cell_type": "code",
   "execution_count": null,
   "metadata": {},
   "outputs": [],
   "source": [
    "import torch\n",
    "import cv2\n",
    "import datetime\n",
    "from ultralytics import YOLO\n",
    "import numpy as np\n",
    "from PIL import Image\n"
   ]
  },
  {
   "cell_type": "code",
   "execution_count": null,
   "metadata": {},
   "outputs": [],
   "source": [
    "print(torch.cuda.is_available())  # Returns True if GPU is available\n",
    "print(torch.cuda.device_count())  # Number of GPUs available\n",
    "# print(torch.cuda.get_device_name(0))  # Name of the first GPU\n",
    "\n",
    "device = torch.device('cuda' if torch.cuda.is_available() else 'cpu')\n",
    "import os\n",
    "HOME = os.getcwd()\n",
    "print(HOME)"
   ]
  },
  {
   "cell_type": "code",
   "execution_count": null,
   "metadata": {},
   "outputs": [],
   "source": [
    "# Load the YOLOv11 model\n",
    "# model = torch.hub.load('ultralytics/yolov11', 'custom', path='yolo11n.pt')\n",
    "# model = YOLO(\"trash2_model.pt\")\n",
    "model = YOLO(\"trash2_model.pt\")\n"
   ]
  },
  {
   "cell_type": "code",
   "execution_count": null,
   "metadata": {},
   "outputs": [],
   "source": [
    "\n",
    "# Define configuration constants\n",
    "CONFIDENCE_THRESHOLD_LIMIT = 0.5\n",
    "BOX_COLOUR = (0, 255, 0)\n",
    "\n",
    "# Define the device type. Set to \"mps\" if you want to use M1 Mac GPU. Otherwise use \"cpu\"\n",
    "DEVICE = \"0\"\n",
    "\n",
    "# Define video source. You can use a webcam, video file ir a live stream\n",
    "VIDEO_SOURCE = cv2.VideoCapture(0)  # 0 for webcam\n",
    "# VIDEO_SOURCE = cv2.VideoCapture('data/video.mp4')\n"
   ]
  },
  {
   "cell_type": "code",
   "execution_count": null,
   "metadata": {},
   "outputs": [],
   "source": [
    "# Perform object detection on an image\n",
    "# results = model(\"trash3.png\")\n",
    "image_path = \"trash5.png\"\n",
    "image = Image.open(image_path)\n",
    "resized_image = image.resize((640, 640))\n",
    "results = model(resized_image)\n",
    "results[0].show()\n",
    "\n",
    "# Export the model to ONNX format\n",
    "# path = model.export(format=\"onnx\")  # return path to exported model"
   ]
  },
  {
   "cell_type": "code",
   "execution_count": null,
   "metadata": {},
   "outputs": [
    {
     "ename": "",
     "evalue": "",
     "output_type": "error",
     "traceback": [
      "\u001b[1;31mThe Kernel crashed while executing code in the current cell or a previous cell. \n",
      "\u001b[1;31mPlease review the code in the cell(s) to identify a possible cause of the failure. \n",
      "\u001b[1;31mClick <a href='https://aka.ms/vscodeJupyterKernelCrash'>here</a> for more info. \n",
      "\u001b[1;31mView Jupyter <a href='command:jupyter.viewOutput'>log</a> for further details."
     ]
    }
   ],
   "source": [
    "\n",
    "\n",
    "while True:\n",
    "    start = datetime.datetime.now()\n",
    "    ret, frame = VIDEO_SOURCE.read()\n",
    "\n",
    "    # if there are no more frames to process, stop the loop\n",
    "    if not ret:\n",
    "        break\n",
    "\n",
    "    # Perform object detection. Set MPS is the device type\n",
    "    detections = model(frame, device=DEVICE)\n",
    "    result = model(frame)[0]\n",
    "\n",
    "    # Transform the results to numpy arrays and integers. Pixels are always integers\n",
    "    bboxes = np.array(result.boxes.xyxy.cpu(), dtype=\"int\")\n",
    "    classes = np.array(result.boxes.cls.cpu(), dtype=\"int\")\n",
    "    confidence = np.array(result.boxes.conf.cpu(), dtype=\"float\")\n",
    "\n",
    "    # Draw the bounding boxes and labels on the frame. The color of the bounding box depends on the confidence\n",
    "    for cls, bbox, conf in zip(classes, bboxes, confidence):\n",
    "        (x, y, x2, y2) = bbox\n",
    "        object_name = model.names[cls]\n",
    "        if conf < CONFIDENCE_THRESHOLD_LIMIT:\n",
    "            continue\n",
    "        if conf > 0.6:\n",
    "            BOX_COLOUR = (37, 245, 75)\n",
    "        elif conf < 0.6 and conf > 0.3:\n",
    "            BOX_COLOUR = (66, 224, 245)\n",
    "        else:\n",
    "            BOX_COLOUR = (78, 66, 245)\n",
    "\n",
    "        cv2.rectangle(frame, (x, y), (x2, y2), BOX_COLOUR, 2)\n",
    "        cv2.putText(frame, f\"{object_name}: {conf:.2f}\", (x, y - 5), cv2.FONT_HERSHEY_PLAIN, 2, BOX_COLOUR, 2)\n",
    "\n",
    "    # Measure time it took to process 1 frame and overlay fps on the frame\n",
    "    end = datetime.datetime.now()\n",
    "    total = (end - start).total_seconds()\n",
    "\n",
    "    # Calculate the frame per second and draw it on the frame\n",
    "    fps = f\"FPS: {1 / total:.2f}\"\n",
    "    cv2.putText(frame, fps, (50, 50),\n",
    "                cv2.FONT_HERSHEY_PLAIN, 1, (0, 0, 255), 2)\n",
    "\n",
    "    # Display the output video\n",
    "    cv2.imshow(\"Output video\", frame)\n",
    "\n",
    "    # Stop processing when the \"q\" key is pressed\n",
    "    if cv2.waitKey(1) == ord(\"q\"):\n",
    "        break\n",
    "\n",
    "\n"
   ]
  },
  {
   "cell_type": "code",
   "execution_count": null,
   "metadata": {},
   "outputs": [],
   "source": [
    "VIDEO_SOURCE.release()\n",
    "cv2.destroyAllWindows()"
   ]
  },
  {
   "cell_type": "code",
   "execution_count": null,
   "metadata": {},
   "outputs": [],
   "source": [
    "# Open the camera\n",
    "cap = cv2.VideoCapture(0)\n",
    "\n",
    "while True:\n",
    "    # Capture frame-by-frame\n",
    "    ret, frame = cap.read()\n",
    "    \n",
    "    # Perform inference\n",
    "    results = model(frame)\n",
    "    \n",
    "    # Render the results on the frame\n",
    "    frame = results.render()[0]\n",
    "    \n",
    "    # Display the resulting frame\n",
    "    cv2.imshow('YOLOv5 Rubbish Detection', frame)\n",
    "    \n",
    "    # Break the loop on 'q' key press\n",
    "    if cv2.waitKey(1) & 0xFF == ord('q'):\n",
    "        break\n",
    "\n",
    "# Release the camera and close all OpenCV windows\n",
    "cap.release()\n",
    "cv2.destroyAllWindows()"
   ]
  }
 ],
 "metadata": {
  "kernelspec": {
   "display_name": "Python 3",
   "language": "python",
   "name": "python3"
  },
  "language_info": {
   "codemirror_mode": {
    "name": "ipython",
    "version": 3
   },
   "file_extension": ".py",
   "mimetype": "text/x-python",
   "name": "python",
   "nbconvert_exporter": "python",
   "pygments_lexer": "ipython3",
   "version": "3.11.9"
  }
 },
 "nbformat": 4,
 "nbformat_minor": 2
}
